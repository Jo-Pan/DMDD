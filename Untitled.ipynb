{
 "cells": [
  {
   "cell_type": "code",
   "execution_count": 9,
   "id": "e6187f3d-3d63-467c-b22f-7d99a0331c42",
   "metadata": {},
   "outputs": [],
   "source": [
    "import gzip\n",
    "import json\n",
    "\n",
    "pwc_base = \"https://production-media.paperswithcode.com/about/\"\n",
    "pwc_file_names = [\"datasets.json.gz\", \"papers-with-abstracts.json.gz\", \"links-between-papers-and-code.json.gz\",\"evaluation-tables.json.gz\",\n",
    "                  \"methods.json.gz\", ]\n",
    "\n",
    "pwc_files = {}"
   ]
  },
  {
   "cell_type": "code",
   "execution_count": 15,
   "id": "556f8c43-9cad-40b0-94c6-6904b8433f93",
   "metadata": {},
   "outputs": [],
   "source": [
    "name = \"links-between-papers-and-code.json.gz\"\n",
    "url = pwc_base + name\n",
    "# headers={'User-Agent': 'Mozilla/5.0 (Macintosh; Intel Mac OS X 10_9_3) AppleWebKit/537.36 (KHTML, like Gecko) Chrome/35.0.1916.47 Safari/537.36'}\n",
    "# req = urllib.request.Request(url, headers=headers)\n",
    "# with urllib.request.urlopen(req) as response:\n",
    "#     with gzip.GzipFile(fileobj=response) as uncompressed:\n",
    "#         file_content = uncompressed.read()"
   ]
  },
  {
   "cell_type": "code",
   "execution_count": 3,
   "id": "1e141021-7e05-42a1-9541-63e81f10cedc",
   "metadata": {},
   "outputs": [],
   "source": [
    "import subprocess"
   ]
  },
  {
   "cell_type": "code",
   "execution_count": 19,
   "id": "89e6a26e-09ab-47d0-bb5b-9304fe19278e",
   "metadata": {},
   "outputs": [],
   "source": [
    "_ = subprocess.Popen([\"wget\", url, \"-O\", f\"./input/{name}\"])\n",
    "_ = subprocess.Popen([\"gzip\", \"-d\",  f\"./input/{name}\"])"
   ]
  },
  {
   "cell_type": "code",
   "execution_count": 12,
   "id": "55b93406-8605-42d4-9a8a-c575d1ced6f1",
   "metadata": {},
   "outputs": [],
   "source": [
    "data = json.load(open(f\"./input/{name.rstrip('.gz')}\"))"
   ]
  },
  {
   "cell_type": "code",
   "execution_count": 14,
   "id": "6f3751e9-a3f5-46b5-8111-fa151a82ce58",
   "metadata": {},
   "outputs": [
    {
     "data": {
      "text/plain": [
       "5863"
      ]
     },
     "execution_count": 14,
     "metadata": {},
     "output_type": "execute_result"
    }
   ],
   "source": [
    "len(data)"
   ]
  },
  {
   "cell_type": "code",
   "execution_count": 20,
   "id": "25696eac-3baf-4fbd-a12d-7c2374d05f66",
   "metadata": {},
   "outputs": [
    {
     "name": "stderr",
     "output_type": "stream",
     "text": [
      "IOPub data rate exceeded.\n",
      "The Jupyter server will temporarily stop sending output\n",
      "to the client in order to avoid crashing it.\n",
      "To change this limit, set the config variable\n",
      "`--ServerApp.iopub_data_rate_limit`.\n",
      "\n",
      "Current values:\n",
      "ServerApp.iopub_data_rate_limit=1000000.0 (bytes/sec)\n",
      "ServerApp.rate_limit_window=3.0 (secs)\n",
      "\n"
     ]
    }
   ],
   "source": [
    "response = requests.get(url, headers=headers)\n",
    "print(response.content)"
   ]
  },
  {
   "cell_type": "code",
   "execution_count": 20,
   "id": "511e9919-9919-4e38-abe1-2c1618ea6cf9",
   "metadata": {},
   "outputs": [],
   "source": [
    "old_papers =  json.load(open('./input/papers-with-abstracts-datasets.json'))"
   ]
  }
 ],
 "metadata": {
  "kernelspec": {
   "display_name": "Python 3",
   "language": "python",
   "name": "python3"
  },
  "language_info": {
   "codemirror_mode": {
    "name": "ipython",
    "version": 3
   },
   "file_extension": ".py",
   "mimetype": "text/x-python",
   "name": "python",
   "nbconvert_exporter": "python",
   "pygments_lexer": "ipython3",
   "version": "3.9.7"
  }
 },
 "nbformat": 4,
 "nbformat_minor": 5
}
